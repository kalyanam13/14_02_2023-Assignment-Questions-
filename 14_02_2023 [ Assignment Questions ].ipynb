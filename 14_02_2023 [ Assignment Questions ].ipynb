{
 "cells": [
  {
   "cell_type": "markdown",
   "id": "88d0c201",
   "metadata": {},
   "source": [
    "# PWSKILLS MULTITHREADING [ ASSIGNMENT QUESTIONS ]"
   ]
  },
  {
   "cell_type": "markdown",
   "id": "b03bdb8d",
   "metadata": {},
   "source": [
    "### Question no.1: What is multithreading in python ? Why is it used ? Name the module used to handle threads in python.\n",
    "### Answer: Multithreading in Python refers to the ability to run multiple threads of execution concurrently within a single program. Each thread is a separate path of execution that can run independently of the other threads, but shares the same memory space and resources of the parent process. Multithreading is used to improve the performance of programs that perform multiple, independent tasks that can be executed simultaneously.\n",
    "\n",
    "### For example, in a web server, each incoming request can be handled by a separate thread, allowing the server to handle multiple requests concurrently, without blocking other requests. Similarly, in a multimedia application, separate threads can be used for audio playback, video decoding, and user interface updates, allowing each task to run concurrently without interrupting the others.\n",
    "\n",
    "### In Python, the threading module is used to handle threads. It provides a higher-level interface for creating and managing threads, including methods for starting and stopping threads, waiting for threads to finish, and synchronization primitives like locks and semaphores to coordinate access to shared resources. The threading module is built on top of the lower-level _thread_ module, which provides a more primitive interface to threads, but is less convenient to use directly."
   ]
  },
  {
   "cell_type": "markdown",
   "id": "413a81eb",
   "metadata": {},
   "source": [
    "### Question no.2: Why threading module used ? Write the use of the following functions: 1. activeCount()  2. currentThread  3. enumerate() \n",
    "### Answer : The threading module is used in Python to create and manage threads, which are separate and independent streams of execution within a program. This allows multiple tasks to be performed simultaneously, which can improve the performance of a program and make it more responsive to user input.\n",
    "\n",
    "### Here are the uses of the following functions in the threading module:\n",
    "\n",
    "### 1. activeCount(): This function returns the number of active threads in the current thread's thread hierarchy. It can be used to monitor the progress of a program and to ensure that all threads are running as expected. For example, if the active count is lower than expected, it may indicate that some threads have terminated prematurely or are not running as intended.\n",
    "### Here's an example:"
   ]
  },
  {
   "cell_type": "code",
   "execution_count": 3,
   "id": "6023149a",
   "metadata": {},
   "outputs": [
    {
     "name": "stdout",
     "output_type": "stream",
     "text": [
      "Hello from thread Thread-15\n",
      "Hello from thread Thread-16\n",
      "Hello from thread Thread-17\n",
      "Hello from thread Thread-18\n",
      "Hello from thread Thread-19\n",
      "Number of active threads: 6\n"
     ]
    }
   ],
   "source": [
    "import threading\n",
    "\n",
    "def my_function():\n",
    "    print(\"Hello from thread\",threading.currentThread().getName())\n",
    "    \n",
    "threads = []\n",
    "for t in range(5):\n",
    "    t = threading.Thread(target = my_function)\n",
    "    t.start()\n",
    "    threads.append(t)\n",
    "    \n",
    "print(\"Number of active threads:\",threading.activeCount()) \n",
    "\n",
    "# In this example, we create five threads that call the my_function() function. We then use the activeCount() function to check how many threads are currently running. The output might look like this:"
   ]
  },
  {
   "cell_type": "markdown",
   "id": "315c14b3",
   "metadata": {},
   "source": [
    "### Note that the number of active threads is actually 6, not 5, because the main thread is also included in the count."
   ]
  },
  {
   "cell_type": "markdown",
   "id": "3e6cd017",
   "metadata": {},
   "source": [
    "### 2. currentThread(): This function returns a reference to the current thread object. It can be used to identify the currently executing thread and to perform operations on it, such as setting the thread name or checking the thread status. Here's an example:"
   ]
  },
  {
   "cell_type": "code",
   "execution_count": 1,
   "id": "b37f11a2",
   "metadata": {},
   "outputs": [
    {
     "name": "stdout",
     "output_type": "stream",
     "text": [
      "Thread name: Thread-5\n",
      "Thread name: Thread-6\n",
      "Thread name: Thread-7\n",
      "Thread name: Thread-8\n",
      "Thread name: Thread-9\n"
     ]
    }
   ],
   "source": [
    "import threading\n",
    "\n",
    "def my_function():\n",
    "    print(\"Thread name:\",threading.currentThread().getName())\n",
    "    \n",
    "threads = []\n",
    "for i in range(5):\n",
    "    thread = threading.Thread(target = my_function)\n",
    "    threads.append(thread)\n",
    "    thread.start()\n",
    "    \n",
    "# In this example, we create 5 threads and start them. In the my_function() function, we use currentThread() to print the name of the current thread.    "
   ]
  },
  {
   "cell_type": "markdown",
   "id": "c6c990ef",
   "metadata": {},
   "source": [
    "### 3. enumerate(): This function returns a list of all thread objects that are currently active. It can be used to iterate over all threads in the current thread group and perform operations on them, such as checking their status or terminating them.This function returns a list of all thread objects that are currently active. Here's an example:"
   ]
  },
  {
   "cell_type": "code",
   "execution_count": 2,
   "id": "f085e3f4",
   "metadata": {},
   "outputs": [
    {
     "name": "stdout",
     "output_type": "stream",
     "text": [
      "Thread name: MainThread\n",
      "Thread name: IOPub\n",
      "Thread name: Heartbeat\n",
      "Thread name: Control\n",
      "Thread name: IPythonHistorySavingThread\n",
      "Thread name: Thread-4\n"
     ]
    }
   ],
   "source": [
    "import threading\n",
    "import time\n",
    "\n",
    "def my_function():\n",
    "    time.sleep(1)\n",
    "    \n",
    "threads = []\n",
    "\n",
    "for i in range(5):\n",
    "    thread = threading.Thread(target = my_function)\n",
    "    threads.append(thread)\n",
    "    thread.start()\n",
    "    \n",
    "time.sleep(2)    \n",
    "    \n",
    "for thread in threading.enumerate():\n",
    "    print(\"Thread name:\",thread.getName())"
   ]
  },
  {
   "cell_type": "markdown",
   "id": "2c5011cb",
   "metadata": {},
   "source": [
    "### In this example, we create 5 threads and start them. We then sleep for 2 seconds to allow all the threads to complete. Finally, we use enumerate() to print the name of each thread in the current thread group, which includes the 5 new threads as well as the main thread."
   ]
  },
  {
   "cell_type": "markdown",
   "id": "43b54516",
   "metadata": {},
   "source": [
    "### Question no.3: Explain the following functions: (1) run() , (2) start() , (3) join() , (4) isAlive\n",
    "### Answer: These functions are related to Python's threading module, which allows you to create and manage threads within a program. Here's an explanation of each of the functions :\n",
    "\n",
    "### (1) run(): This method is called when a thread is started using the start() method. It is the entry point for the thread and contains the code that will be executed in the thread's context.Here's an example:"
   ]
  },
  {
   "cell_type": "code",
   "execution_count": 6,
   "id": "99d5daf4",
   "metadata": {},
   "outputs": [
    {
     "name": "stdout",
     "output_type": "stream",
     "text": [
      "Threading started.\n",
      "Threading finished.\n"
     ]
    }
   ],
   "source": [
    "import threading\n",
    "\n",
    "class MyThread(threading.Thread):\n",
    "    def run(self):\n",
    "        print(\"Threading started.\")\n",
    "        # do some work here\n",
    "        print(\"Threading finished.\")\n",
    "        \n",
    "t = MyThread()\n",
    "t.run() # runs the thread's code directly, not in a separate thread\n",
    "\n",
    "# In this example, we define a subclass of threading.Thread called MyThread and override the run() method to print a message and then do some work. However, we're calling run() directly on the thread object t, which means the thread's code will execute in the main thread's context, not in a separate thread. To run the thread's code in a separate thread, we need to call start() instead."
   ]
  },
  {
   "cell_type": "markdown",
   "id": "41a1692a",
   "metadata": {},
   "source": [
    "### (2) start(): This method is used to start a thread by calling its run() method. When start() is called, the thread is added to the system's list of active threads and is ready to be scheduled by the Python interpreter. Here's an example:"
   ]
  },
  {
   "cell_type": "code",
   "execution_count": 7,
   "id": "f83471aa",
   "metadata": {},
   "outputs": [
    {
     "name": "stdout",
     "output_type": "stream",
     "text": [
      "Threading started\n",
      "Threading finished\n"
     ]
    }
   ],
   "source": [
    "import threading\n",
    "\n",
    "class MyThread(threading.Thread):\n",
    "    def run(self):\n",
    "        print(\"Threading started\")\n",
    "        # do some work here\n",
    "        print(\"Threading finished\")\n",
    "        \n",
    "t = MyThread()\n",
    "t.start() # starts the thread's execution in a separate thread\n",
    "\n",
    "# In this example, we define the same MyThread subclass as before, but this time we call start() on the thread object t instead of run(). This causes the thread's code to execute in a separate thread of control, allowing it to run concurrently with the main thread's code."
   ]
  },
  {
   "cell_type": "markdown",
   "id": "ca7a3629",
   "metadata": {},
   "source": [
    "### (3) join(): This method is used to wait for a thread to complete its execution. When join() is called on a thread, the calling thread (usually the main thread) is blocked until the thread being joined completes its execution. This is useful when you need to wait for a thread to finish before continuing with the rest of the program's execution.  Here's an example:"
   ]
  },
  {
   "cell_type": "code",
   "execution_count": 8,
   "id": "111f2abc",
   "metadata": {},
   "outputs": [
    {
     "name": "stdout",
     "output_type": "stream",
     "text": [
      "Threading started.\n",
      "Threading finished.\n",
      "Program finished.\n"
     ]
    }
   ],
   "source": [
    "import threading\n",
    "import time\n",
    "\n",
    "class MyThread(threading.Thread):\n",
    "    def run(self):\n",
    "        print(\"Threading started.\")\n",
    "        time.sleep(2) # simulate some work taking 2 seconds\n",
    "        print(\"Threading finished.\")\n",
    "        \n",
    "t = MyThread()\n",
    "t.start() # start the thread\n",
    "t.join() # wait for the thread to finish before continuing\n",
    "print(\"Program finished.\")\n",
    "\n",
    "# In this example, we define the same MyThread subclass as before, but this time we call join() on the thread object t after starting it. This causes the main thread to wait for the thread t to complete its execution before continuing with the rest of the program. In this case, we're simulating some work taking 2 seconds using the time.sleep() function."
   ]
  },
  {
   "cell_type": "markdown",
   "id": "aea3c191",
   "metadata": {},
   "source": [
    "### (4) isAlive(): This method is used to check whether a thread is still active or not. When called on a thread object, it returns True if the thread is currently executing or waiting to be scheduled, and False otherwise. This can be useful for checking the status of a thread and determining whether it has completed its execution or not. Here's an example:"
   ]
  },
  {
   "cell_type": "code",
   "execution_count": 12,
   "id": "53b5a5bf",
   "metadata": {},
   "outputs": [
    {
     "name": "stdout",
     "output_type": "stream",
     "text": [
      "Threading started.Waiting for thread to finish.....\n",
      "\n",
      "Waiting for thread to finish.....\n",
      "Waiting for thread to finish.....\n",
      "Waiting for thread to finish.....\n",
      "Threading finished.\n",
      "Program finished\n"
     ]
    }
   ],
   "source": [
    "import threading\n",
    "import time\n",
    "\n",
    "class MyThread(threading.Thread):\n",
    "    def run(self):\n",
    "        print(\"Threading started.\")\n",
    "        time.sleep(2)\n",
    "        print(\"Threading finished.\")\n",
    "\n",
    "t = MyThread()\n",
    "t.start()\n",
    "while t.is_alive():\n",
    "    print(\"Waiting for thread to finish.....\")\n",
    "    time.sleep(0.5)\n",
    "print(\"Program finished\")\n",
    "\n",
    "# In this example, we define the same MyThread subclass as before, but this time we call isAlive() in a loop to check whether the thread t is still active. We use time.sleep() to pause for half a second between each check. Once the thread is no longer alive (i.e., it has finished its execution), we break out of the loop and continue with the rest of the program."
   ]
  },
  {
   "cell_type": "markdown",
   "id": "6d26b7ea",
   "metadata": {},
   "source": [
    "### Question no.4: Write a python program to create two threads. Thread one must print the list of squares and thread two must print the list of cubes.\n",
    "### Answer: "
   ]
  },
  {
   "cell_type": "code",
   "execution_count": 17,
   "id": "77a09f45",
   "metadata": {},
   "outputs": [
    {
     "name": "stdout",
     "output_type": "stream",
     "text": [
      "square of 1 is 1\n",
      "square of 2 is 4\n",
      "square of 3 is 9\n",
      "square of 4 is 16\n",
      "square of 5 is 25\n",
      "square of 6 is 36\n",
      "square of 7 is 49\n",
      "square of 8 is 64\n",
      "square of 9 is 81\n",
      "square of 10 is 100\n",
      "\n",
      "cube of 1 is 1\n",
      "cube of 2 is 8\n",
      "cube of 3 is 27\n",
      "cube of 4 is 64\n",
      "cube of 5 is 125\n",
      "cube of 6 is 216\n",
      "cube of 7 is 343\n",
      "cube of 8 is 512\n",
      "cube of 9 is 729\n",
      "cube of 10 is 1000\n",
      "\n",
      "Done!\n"
     ]
    }
   ],
   "source": [
    "import threading\n",
    "\n",
    "def print_squares():\n",
    "    for i in range(1,11):\n",
    "        print(f\"square of {i} is {i**2}\")\n",
    "    print()    \n",
    "        \n",
    "def print_cubes():\n",
    "    for i in range(1,11):\n",
    "        print(f\"cube of {i} is {i**3}\")\n",
    "    print()    \n",
    "        \n",
    "t1 = threading.Thread(target = print_squares)\n",
    "t2 = threading.Thread(target = print_cubes)\n",
    "\n",
    "t1.start()\n",
    "t2.start()\n",
    "\n",
    "t1.join()\n",
    "t2.join()\n",
    "\n",
    "print(\"Done!\")"
   ]
  },
  {
   "cell_type": "markdown",
   "id": "e475f581",
   "metadata": {},
   "source": [
    "### Question no.5: State advantages and disadvantages of multithreading.\n",
    "### Answer: Multithreading is a programming technique that allows multiple threads to run concurrently within a single process. Here are some advantages and disadvantages of multithreading:\n",
    "\n",
    "### Advantages of multithreading:\n",
    "\n",
    "### 1.Increased efficiency: By allowing multiple threads to execute concurrently, multithreading can improve the performance of a program by reducing the overall execution time.\n",
    "\n",
    "### 2. Better resource utilization: Multithreading allows different parts of a program to use the CPU and other resources more efficiently, making better use of available hardware.\n",
    "\n",
    "### 3. Improved responsiveness: Multithreading can help improve the responsiveness of a program by allowing it to handle multiple tasks simultaneously, such as processing user input while performing a background task.\n",
    "\n",
    "### 4. Simplified programming: In some cases, multithreading can simplify programming by allowing different tasks to be separated into independent threads, reducing the complexity of the overall program.\n",
    "\n",
    "### Disadvantages of multithreading:\n",
    "\n",
    "### 1. Complexity: Multithreading can add significant complexity to a program, requiring careful design and implementation to avoid issues such as deadlocks, race conditions, and synchronization problems.\n",
    "\n",
    "### 2. Overhead: The creation and management of threads can add overhead to a program, which can reduce performance if not carefully managed.\n",
    "\n",
    "### 3. Debugging difficulties: Debugging multithreaded programs can be more difficult than single-threaded programs, as it can be challenging to reproduce and isolate bugs that arise from thread interactions.\n",
    "\n",
    "### 4. Reduced determinism: Multithreaded programs can be less deterministic than single-threaded programs, as the execution order of threads can be unpredictable and can vary from one run to another. This can make testing and debugging more challenging.\n",
    "\n",
    "### Overall, multithreading can be a powerful tool for improving the performance and responsiveness of a program, but it requires careful design and management to avoid the potential pitfalls."
   ]
  },
  {
   "cell_type": "markdown",
   "id": "6f5eb997",
   "metadata": {},
   "source": [
    "### Question no.6: Explain deadlocks and race conditions.\n",
    "### Answer: Deadlocks and race conditions are two types of concurrency issues that can occur in multithreaded programs.\n",
    "\n",
    "### 1. Deadlocks:\n",
    "### A deadlock occurs when two or more threads are blocked, waiting for each other to release a resource that they are holding. In other words, each thread is waiting for the other to finish using a shared resource, but neither can proceed until the other releases the resource. This results in a situation where both threads are stuck in a waiting state, and the program cannot continue.\n",
    "\n",
    "### For example, imagine two threads, A and B, each holding a resource that the other needs to proceed. If A requests the resource held by B, and B requests the resource held by A, both threads will be waiting indefinitely, resulting in a deadlock.\n",
    "\n",
    "### 2. Race conditions:\n",
    "### A race condition occurs when the behavior of a program depends on the relative timing of multiple threads executing concurrently. In other words, the outcome of the program is unpredictable, as it depends on the order in which threads execute.\n",
    "\n",
    "### For example, imagine two threads, A and B, both trying to access and modify the same shared variable. If A reads the variable, then B modifies it, and then A writes a new value back to the variable, the final value of the variable will depend on the order in which the threads execute. This can result in unpredictable behavior and can cause errors in the program.\n",
    "\n",
    "### Both deadlocks and race conditions can be difficult to detect and resolve, as they can be caused by subtle timing or synchronization issues in the code. To avoid these issues, programmers must carefully design and test their multithreaded programs, using techniques such as locking, synchronization, and thread-safe data structures to ensure that threads do not interfere with each other in unexpected ways."
   ]
  },
  {
   "cell_type": "code",
   "execution_count": null,
   "id": "09440ff5",
   "metadata": {},
   "outputs": [],
   "source": []
  }
 ],
 "metadata": {
  "kernelspec": {
   "display_name": "Python 3 (ipykernel)",
   "language": "python",
   "name": "python3"
  },
  "language_info": {
   "codemirror_mode": {
    "name": "ipython",
    "version": 3
   },
   "file_extension": ".py",
   "mimetype": "text/x-python",
   "name": "python",
   "nbconvert_exporter": "python",
   "pygments_lexer": "ipython3",
   "version": "3.9.13"
  }
 },
 "nbformat": 4,
 "nbformat_minor": 5
}
